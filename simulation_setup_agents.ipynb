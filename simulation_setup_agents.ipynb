{
 "cells": [
  {
   "cell_type": "code",
   "execution_count": null,
   "id": "4af75dea",
   "metadata": {},
   "outputs": [],
   "source": [
    "import dotenv\n",
    "dotenv.load_dotenv()"
   ]
  },
  {
   "cell_type": "code",
   "execution_count": null,
   "id": "848e45a8",
   "metadata": {},
   "outputs": [],
   "source": [
    "from agents.simulation_team.simulation_team import create_simulation_team"
   ]
  },
  {
   "cell_type": "code",
   "execution_count": null,
   "id": "7617d64c",
   "metadata": {},
   "outputs": [],
   "source": [
    "sim_team = create_simulation_team()"
   ]
  },
  {
   "cell_type": "code",
   "execution_count": null,
   "id": "af972569",
   "metadata": {},
   "outputs": [],
   "source": [
    "from IPython.display import display, Image\n",
    "\n",
    "display(Image(sim_team.get_graph(xray=False).draw_mermaid_png()))"
   ]
  },
  {
   "cell_type": "code",
   "execution_count": null,
   "id": "b496abb7",
   "metadata": {},
   "outputs": [],
   "source": [
    "prompts = {\n",
    "    \"experiment_1\": \"Set up a simulation for adsorption isotherms  of CH4 (methane) on the MOR_33 zeolite.\" \\\n",
    "                \"You can find the CIF file for the structure in the 'cifs' folder.\" \\\n",
    "                \"Isotherms should be calculated using separate simulations at 10, 100, 1000 and 10000 Pa.\" \\\n",
    "                \"Make sure to use the appropriate number of unit cells, and choose the appropriate ensemble.\" \\\n",
    "                \"Ensure that the 'simulation.input' file has the correct number of Na cations (number of unit cells x number of Al atoms in one unit cell).\" \\\n",
    "                \"The force field should work for zeolites breaking the lowenstein rule (O connected to 2 Al).\" \\\n",
    "                \"The simulation should be placed in the 'runs' folder, and the parent folder should be named 'molecules_isotherm_MOR_33'. In this folder, you can setup the template called 'template'.\",\n",
    "    \"experiment_2\": \"Set up a simulation for adsorption isotherms  of CH4 (methane), CO2 (carbon dioxide) and CO (carbon monoxide) on the MOR_33 zeolite.\" \\\n",
    "                \"You can find the CIF file for the structure in the 'cifs' folder.\" \\\n",
    "                \"Isotherms should be calculated separately for each adsorbate.\" \\\n",
    "                \"Isotherms should be calculated using separate simulations at 10, 100, 1000 and 10000 Pa.\" \\\n",
    "                \"Make sure to use the appropriate number of unit cells, and choose the appropriate ensemble.\" \\\n",
    "                \"Ensure that the 'simulation.input' file has the correct number of Na cations (number of unit cells x number of Al atoms in one unit cell).\" \\\n",
    "                \"The force field should work for zeolites breaking the lowenstein rule (O connected to 2 Al).\" \\\n",
    "                \"The simulation should be placed in the 'runs' folder, and the parent folder should be named 'molecules_isotherm_MOR_33'. In this folder, you can setup the template called 'template'.\",\n",
    "    \"experiment_3\": \"Set up a simulation for CH4 (methane) heat of adsorption on a collection of aluminium substituted zeolites, with Na cations.\" \\\n",
    "                \"You can find their CIF files in the 'cifs' folder.\" \\\n",
    "                \"The heat of adsorption should be calculated at room temperature.\" \\\n",
    "                \"Make sure to use the appropriate number of unit cells, and choose the appropriate ensemble.\" \\\n",
    "                \"Ensure that the 'simulation.input' file has the correct number of Na cations (number of unit cells x number of Al atoms in one unit cell).\" \\\n",
    "                \"The force field should work for zeolites breaking the lowenstein rule (O connected to 2 Al).\" \\\n",
    "                \"The simulation should be placed in the 'runs' folder, and the parent folder should be named 'CH4_in_zeolites_hoa'. In this folder, you can setup the template called 'template'.\",\n",
    "    \"experiment_4\": \"Set up a simulation for the heat of adsorption of CH4 (methane), CO2 (carbon dioxide) and CO (carbon monoxide) on a collection of aluminium substituted zeolites, with Na cations.\" \\\n",
    "                \"You can find their CIF files in the 'cifs' folder.\" \\\n",
    "                \"The heat of adsorption should be calculated separately for each molecule.\" \\\n",
    "                \"Make sure to use the appropriate number of unit cells, and choose the appropriate ensemble.\" \\\n",
    "                \"Ensure that the 'simulation.input' file has the correct number of Na cations (number of unit cells x number of Al atoms in one unit cell).\" \\\n",
    "                \"The force field should work for zeolites breaking the lowenstein rule (O connected to 2 Al).\" \\\n",
    "                \"The simulation should be placed in the 'runs' folder, and the parent folder should be named 'CH4_in_zeolites_hoa'. In this folder, you can setup the template called 'template'.\",\n",
    "    \"experiment_5\": \"Set up a simulation for CH4 (methane) adsorption isotherm on a collection of aluminium substituted zeolites, with Na cations.\" \\\n",
    "                \"You can find their CIF files in the 'cifs' folder.\" \\\n",
    "                \"Isotherms should be calculated using separate simulations at 10, 100, 1000 and 10000 Pa.\" \\\n",
    "                \"Make sure to use the appropriate number of unit cells, and choose the appropriate ensemble.\" \\\n",
    "                \"Ensure that the 'simulation.input' file has the correct number of Na cations (number of unit cells x number of Al atoms in one unit cell).\" \\\n",
    "                \"The force field should work for zeolites breaking the lowenstein rule (O connected to 2 Al).\" \\\n",
    "                \"The simulation should be placed in the 'runs' folder, and the parent folder should be named 'CH4_in_zeolites_isotherm'. In this folder, you can setup the template called 'template'.\",\n",
    "    \"experiment_6\": \"Set up separate simulations for adsorption isotherms of CH4 (methane), CO2 (carbon dioxide) and CO (carbon monoxide) on a collection of aluminium substituted zeolites, with Na cations..\" \\\n",
    "                \"You can find their CIF files in the 'cifs' folder.\" \\\n",
    "                \"Isotherms should be calculated using separate simulations at 10, 100, 1000 and 10000 Pa.\" \\\n",
    "                \"Make sure to use the appropriate number of unit cells, and choose the appropriate ensemble.\" \\\n",
    "                \"Ensure that the 'simulation.input' file has the correct number of Na cations (number of unit cells x number of Al atoms in one unit cell).\" \\\n",
    "                \"The force field should work for zeolites breaking the lowenstein rule (O connected to 2 Al).\" \\\n",
    "                \"The simulation should be placed in the 'runs' folder, and the parent folder should be named 'molecules_in_zeolites_isotherm'. In this folder, you can setup the template called 'template'.\",\n",
    "}"
   ]
  },
  {
   "cell_type": "code",
   "execution_count": null,
   "id": "6f388861",
   "metadata": {},
   "outputs": [],
   "source": [
    "# select prompt\n",
    "experiment = 2"
   ]
  },
  {
   "cell_type": "code",
   "execution_count": null,
   "id": "52698873",
   "metadata": {},
   "outputs": [],
   "source": [
    "prompt = {\"messages\": [{\"role\": \"user\", \"content\": prompts[f\"experiment_{experiment}\"]}]}\n",
    "config = {\n",
    "    \"configurable\": {\"thread_id\": \"thread-0\"},\n",
    "        \"recursion_limit\": 100}\n",
    "\n"
   ]
  },
  {
   "cell_type": "code",
   "execution_count": null,
   "id": "e4c9c6bb",
   "metadata": {},
   "outputs": [],
   "source": [
    "out = sim_team.invoke(prompt, config)\n",
    "from winsound import Beep\n",
    "Beep(300, 5000)"
   ]
  },
  {
   "cell_type": "code",
   "execution_count": null,
   "id": "a509df5f",
   "metadata": {},
   "outputs": [],
   "source": []
  }
 ],
 "metadata": {
  "kernelspec": {
   "display_name": "langchain_env",
   "language": "python",
   "name": "python3"
  },
  "language_info": {
   "codemirror_mode": {
    "name": "ipython",
    "version": 3
   },
   "file_extension": ".py",
   "mimetype": "text/x-python",
   "name": "python",
   "nbconvert_exporter": "python",
   "pygments_lexer": "ipython3",
   "version": "3.11.13"
  }
 },
 "nbformat": 4,
 "nbformat_minor": 5
}
