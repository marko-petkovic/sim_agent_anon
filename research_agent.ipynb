{
 "cells": [
  {
   "cell_type": "code",
   "execution_count": null,
   "id": "8c287a4e",
   "metadata": {},
   "outputs": [],
   "source": [
    "import dotenv\n",
    "dotenv.load_dotenv()"
   ]
  },
  {
   "cell_type": "code",
   "execution_count": null,
   "id": "476cb172",
   "metadata": {},
   "outputs": [],
   "source": [
    "from agents.research_team.research_team import create_research_team"
   ]
  },
  {
   "cell_type": "code",
   "execution_count": null,
   "id": "f535e938",
   "metadata": {},
   "outputs": [],
   "source": [
    "res_team = create_research_team(None)"
   ]
  },
  {
   "cell_type": "code",
   "execution_count": null,
   "id": "956a75ca",
   "metadata": {},
   "outputs": [],
   "source": [
    "papers = {\n",
    "\n",
    "    \"CO2\": [\"Transferable force field for carbon dioxide adsorption in zeolites.\", 2009, \"garcia-sanchez\"],\n",
    "    \"TraPPE-zeo\": [\"Trappe-zeo: Transferable potentials for phase equilibria force field for all-silica zeolites.\", 2013, \"bai\"],\n",
    "    \"Small molecules\": [\"Transferable force-field for modelling of co2, n2, o2 and ar in all silica and na+ exchanged zeolites.\", 2016, \"vujic\"],\n",
    "    \"EPM2\": [\"Carbon dioxide’s liquid-vapor coexistence curve and critical properties as predicted by a simple molecular model.\", 1995, \"harris\"],\n",
    "    \"CO2 (DFT)\": [\"First principles derived, transferable force fields for co 2 adsorption in na-exchanged cationic zeolites.\", 2013, \"fang\"],\n",
    "    \"hydrocarbons and molecules\": [\"A transferable force field for predicting adsorption and diffusion of hydrocarbons and small molecules in silica zeolites with coupled-cluster accuracy.\", 2021, \"findley\"]\n",
    "}\n",
    "paper_names = list(papers.keys())"
   ]
  },
  {
   "cell_type": "code",
   "execution_count": null,
   "id": "7b365baa",
   "metadata": {},
   "outputs": [],
   "source": [
    "paper_num = 4"
   ]
  },
  {
   "cell_type": "code",
   "execution_count": null,
   "id": "5e160559",
   "metadata": {},
   "outputs": [],
   "source": [
    "ppr = papers[paper_names[paper_num]]\n",
    "\n",
    "title, year, author = ppr"
   ]
  },
  {
   "cell_type": "code",
   "execution_count": null,
   "id": "1fb0fd86",
   "metadata": {},
   "outputs": [],
   "source": [
    "config = {\n",
    "    \"configurable\": {\"thread_id\": \"thread-1\"},\n",
    "    \"recursion_limit\": 100\n",
    "}\n",
    "\n",
    "prompt = {\"messages\":\n",
    "          [{\"role\": \"user\", \"content\": f\"Find force fields parameters for '{title} ({author}, {year})'. Only download and extract the parameters of the one requested paper.\"}]\n",
    "          }"
   ]
  },
  {
   "cell_type": "code",
   "execution_count": null,
   "id": "cd6986f6",
   "metadata": {},
   "outputs": [],
   "source": [
    "out = res_team.invoke(prompt, config)\n",
    "from winsound import Beep\n",
    "Beep(300, 5000)"
   ]
  },
  {
   "cell_type": "code",
   "execution_count": null,
   "id": "cfa3d36b",
   "metadata": {},
   "outputs": [],
   "source": []
  }
 ],
 "metadata": {
  "kernelspec": {
   "display_name": "langchain_env",
   "language": "python",
   "name": "python3"
  },
  "language_info": {
   "codemirror_mode": {
    "name": "ipython",
    "version": 3
   },
   "file_extension": ".py",
   "mimetype": "text/x-python",
   "name": "python",
   "nbconvert_exporter": "python",
   "pygments_lexer": "ipython3",
   "version": "3.11.13"
  }
 },
 "nbformat": 4,
 "nbformat_minor": 5
}
